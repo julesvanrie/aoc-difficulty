{
 "cells": [
  {
   "cell_type": "code",
   "execution_count": null,
   "id": "188e32b9",
   "metadata": {
    "ExecuteTime": {
     "end_time": "2023-12-06T14:03:29.894014Z",
     "start_time": "2023-12-06T14:03:29.885109Z"
    }
   },
   "outputs": [],
   "source": [
    "nb_days = 6"
   ]
  },
  {
   "cell_type": "code",
   "execution_count": null,
   "id": "64e407ce",
   "metadata": {
    "ExecuteTime": {
     "end_time": "2023-12-06T14:03:30.822015Z",
     "start_time": "2023-12-06T14:03:30.818300Z"
    }
   },
   "outputs": [],
   "source": [
    "url = \"https://aoc-difficulty.ew.r.appspot.com/score?year=2023&day=\""
   ]
  },
  {
   "cell_type": "code",
   "execution_count": null,
   "id": "77817a8a",
   "metadata": {
    "ExecuteTime": {
     "end_time": "2023-12-06T13:49:50.398401Z",
     "start_time": "2023-12-06T13:49:50.395036Z"
    }
   },
   "outputs": [],
   "source": [
    "import requests\n",
    "import pandas as pd\n",
    "import matplotlib.pyplot as plt"
   ]
  },
  {
   "cell_type": "code",
   "execution_count": null,
   "id": "65d9a1a9",
   "metadata": {
    "ExecuteTime": {
     "end_time": "2023-12-06T13:49:51.966836Z",
     "start_time": "2023-12-06T13:49:51.183322Z"
    }
   },
   "outputs": [],
   "source": [
    "data = [requests.get(url+str(i)) for i in range(1, nb_days+1)]"
   ]
  },
  {
   "cell_type": "code",
   "execution_count": null,
   "id": "13847f34",
   "metadata": {
    "ExecuteTime": {
     "end_time": "2023-12-06T13:52:17.391839Z",
     "start_time": "2023-12-06T13:52:17.208407Z"
    },
    "scrolled": false
   },
   "outputs": [],
   "source": [
    "fig, (ax1, ax2) = plt.subplots(1,2)\n",
    "fig.set_figwidth(16)\n",
    "\n",
    "dfq = pd.DataFrame()\n",
    "dfq[\"Level 1\"] = [data[i].json()['1']['quartile'] for i in range(6)]\n",
    "dfq[\"Level 2\"] = [data[i].json()['2']['quartile'] for i in range(6)]\n",
    "dfq.index = range(1,7)\n",
    "dfq.plot(kind='bar', yticks=[1,2,3,4], xlabel='Day', ylabel='Quartile', ax=ax1, title='Quartiles');\n",
    "\n",
    "dfs = pd.DataFrame()\n",
    "dfs[\"Level 1\"] = [data[i].json()['1']['score'] for i in range(6)]\n",
    "dfs[\"Level 2\"] = [data[i].json()['2']['score'] for i in range(6)]\n",
    "dfs.index = range(1,7)\n",
    "dfs.plot(kind='bar', xlabel='Day', ylabel='Score', ax=ax2, title='Scores (based on log time)');"
   ]
  }
 ],
 "metadata": {
  "kernelspec": {
   "display_name": "Python 3 (ipykernel)",
   "language": "python",
   "name": "python3"
  },
  "language_info": {
   "codemirror_mode": {
    "name": "ipython",
    "version": 3
   },
   "file_extension": ".py",
   "mimetype": "text/x-python",
   "name": "python",
   "nbconvert_exporter": "python",
   "pygments_lexer": "ipython3",
   "version": "3.10.6"
  },
  "toc": {
   "base_numbering": 1,
   "nav_menu": {},
   "number_sections": false,
   "sideBar": true,
   "skip_h1_title": false,
   "title_cell": "Table of Contents",
   "title_sidebar": "Contents",
   "toc_cell": false,
   "toc_position": {},
   "toc_section_display": true,
   "toc_window_display": false
  }
 },
 "nbformat": 4,
 "nbformat_minor": 5
}
