{
 "cells": [
  {
   "cell_type": "code",
   "execution_count": 232,
   "id": "e868fb44",
   "metadata": {
    "ExecuteTime": {
     "end_time": "2023-11-18T20:13:14.815284Z",
     "start_time": "2023-11-18T20:13:14.738678Z"
    }
   },
   "outputs": [],
   "source": [
    "import json\n",
    "import numpy as np\n",
    "import pandas as pd\n",
    "import matplotlib.pyplot as plt\n",
    "import seaborn as sns\n",
    "from ipywidgets import interact\n",
    "\n",
    "import requests\n",
    "from bs4 import BeautifulSoup"
   ]
  },
  {
   "cell_type": "markdown",
   "id": "8d012522",
   "metadata": {},
   "source": [
    "# Loading historical data"
   ]
  },
  {
   "cell_type": "markdown",
   "id": "702b1a60",
   "metadata": {},
   "source": [
    "Loading json from Eric Wastl's github"
   ]
  },
  {
   "cell_type": "code",
   "execution_count": 216,
   "id": "a7a74c94",
   "metadata": {
    "ExecuteTime": {
     "end_time": "2023-11-18T19:15:44.153571Z",
     "start_time": "2023-11-18T19:15:44.149770Z"
    }
   },
   "outputs": [],
   "source": [
    "#!curl https://raw.githubusercontent.com/topaz/aoc-tmp-stats/master/aoc-2015-2021-stats.json > history.json"
   ]
  },
  {
   "cell_type": "code",
   "execution_count": 217,
   "id": "1dc33a2e",
   "metadata": {
    "ExecuteTime": {
     "end_time": "2023-11-18T19:15:44.498915Z",
     "start_time": "2023-11-18T19:15:44.425481Z"
    }
   },
   "outputs": [],
   "source": [
    "with open(\"history.json\") as file:\n",
    "    history = json.load(file)"
   ]
  },
  {
   "cell_type": "code",
   "execution_count": 227,
   "id": "86e13dc7",
   "metadata": {
    "ExecuteTime": {
     "end_time": "2023-11-18T19:43:16.947718Z",
     "start_time": "2023-11-18T19:43:16.928192Z"
    }
   },
   "outputs": [],
   "source": [
    "def get_evo(year=2021, level=2, transform='identical'):\n",
    "    \"\"\"Return a dataframe with data for a given year, level,\n",
    "    and a transformation applied\n",
    "    \"\"\"\n",
    "    funcs = {\n",
    "        'identical': lambda x: x,\n",
    "        'log': np.log\n",
    "    }\n",
    "\n",
    "    # Number 100\n",
    "    level_to_100 = [history[str(year)][str(d)][str(level)][99] for d in range(1,26)]\n",
    "    # Number 50\n",
    "    level_to_50 = [history[str(year)][str(d)][str(level)][49] for d in range(1,26)]\n",
    "    # Mean time\n",
    "    level_avg_100 = [sum(history[str(year)][str(d)][str(level)][:100])/100 for d in range(1,26)]\n",
    "\n",
    "    evo_level = pd.DataFrame({\n",
    "                    'To 100': level_to_100,\n",
    "                    'To 50': level_to_50,\n",
    "                    'Avg 100': level_avg_100\n",
    "                    },\n",
    "                    index=range(1,26)) / 60\n",
    "\n",
    "    return evo_level.applymap(funcs[transform])"
   ]
  },
  {
   "cell_type": "markdown",
   "id": "6bbdd9d0",
   "metadata": {},
   "source": [
    "## Evolution of time to solve for a chosen advent"
   ]
  },
  {
   "cell_type": "code",
   "execution_count": 384,
   "id": "8db983fc",
   "metadata": {
    "ExecuteTime": {
     "end_time": "2023-11-18T22:35:20.023641Z",
     "start_time": "2023-11-18T22:35:19.718694Z"
    },
    "scrolled": false
   },
   "outputs": [
    {
     "data": {
      "application/vnd.jupyter.widget-view+json": {
       "model_id": "874e866f91004c53aca0d80420360e59",
       "version_major": 2,
       "version_minor": 0
      },
      "text/plain": [
       "interactive(children=(Dropdown(description='year', options=(2021, 2020, 2019, 2018, 2017, 2016, 2015), value=2…"
      ]
     },
     "metadata": {},
     "output_type": "display_data"
    }
   ],
   "source": [
    "@interact\n",
    "def plot_evo(year=range(2021,2014,-1), transform=['identical','log']):\n",
    "    fig, axes = plt.subplots(1,2)\n",
    "    fig.set_figwidth(15);\n",
    "    for level in [1,2]:\n",
    "        evo_level = get_evo(year=year, level=level, transform=transform)\n",
    "        evo_level.plot(ax=axes[level-1]);"
   ]
  },
  {
   "cell_type": "markdown",
   "id": "643e40c0",
   "metadata": {},
   "source": [
    "### Conclusions:\n",
    "- Interestingly, for almost any given year, we see somewhat of an exponential trend over the days.\n",
    "- This is confirmed when we do a log transformation: we see a somewhat linear trend.\n",
    "- The first two years are a bit of an exception, especially for the first days. Not surprisingly because there were less contendents.\n",
    "- We see similar patters for level 1 and level 2. The year 2019 is a notable exception in this.\n",
    "- After a peak of difficulty (mostly one, exceptionally two days), we see a return to an easier challenge."
   ]
  },
  {
   "cell_type": "code",
   "execution_count": 318,
   "id": "5819d44f",
   "metadata": {
    "ExecuteTime": {
     "end_time": "2023-11-18T21:05:33.211935Z",
     "start_time": "2023-11-18T21:05:33.201557Z"
    }
   },
   "outputs": [
    {
     "name": "stdout",
     "output_type": "stream",
     "text": [
      "60.25\n"
     ]
    }
   ],
   "source": [
    "count_level_two_in_one_hour = 100\n",
    "for i in range(1, count_level_one_in_one_hour+1):\n",
    "    if times[i] > 60.0:\n",
    "        print(times[i])\n",
    "        count_level_two_in_one_hour = i\n",
    "        break"
   ]
  },
  {
   "cell_type": "code",
   "execution_count": 275,
   "id": "fb4b6ebd",
   "metadata": {
    "ExecuteTime": {
     "end_time": "2023-11-18T20:39:53.270425Z",
     "start_time": "2023-11-18T20:39:53.265219Z"
    }
   },
   "outputs": [
    {
     "data": {
      "text/plain": [
       "35"
      ]
     },
     "execution_count": 275,
     "metadata": {},
     "output_type": "execute_result"
    }
   ],
   "source": [
    "count_level_two_in_one_hour"
   ]
  },
  {
   "cell_type": "markdown",
   "id": "6c2c8a11",
   "metadata": {},
   "source": [
    "## Compare the years to each other"
   ]
  },
  {
   "cell_type": "code",
   "execution_count": 386,
   "id": "7922d2b8",
   "metadata": {
    "ExecuteTime": {
     "end_time": "2023-11-18T22:36:17.597026Z",
     "start_time": "2023-11-18T22:36:17.452645Z"
    }
   },
   "outputs": [
    {
     "data": {
      "application/vnd.jupyter.widget-view+json": {
       "model_id": "10d22862b19642528a6c0849704322f8",
       "version_major": 2,
       "version_minor": 0
      },
      "text/plain": [
       "interactive(children=(Dropdown(description='level', options=(2, 1), value=2), Dropdown(description='transform'…"
      ]
     },
     "metadata": {},
     "output_type": "display_data"
    }
   ],
   "source": [
    "@interact\n",
    "def plot_to_100_over_years(level=[2,1], transform=['identical','log'], \n",
    "                           metric=['To 100', 'To 50', 'Avg 100'],\n",
    "                           plot=['evolution', 'cat', 'box', 'violin']):\n",
    "    levels = pd.DataFrame()\n",
    "    for year in range(2015, 2022):\n",
    "        levels[str(year)] = get_evo(year=year, level=level, transform=transform)[metric]\n",
    "    if plot == 'evolution':\n",
    "        levels.plot();\n",
    "    elif plot == 'box':\n",
    "        sns.boxplot(data=levels);\n",
    "    elif plot == 'violin':\n",
    "        sns.violinplot(data=levels);\n",
    "    elif plot == 'cat':\n",
    "        sns.catplot(data=levels);\n",
    "    else:\n",
    "        print(\"Choose a plot\")"
   ]
  },
  {
   "cell_type": "markdown",
   "id": "6cafd11a",
   "metadata": {},
   "source": [
    "### Conclusions:\n",
    "- More or less same evolution: difficulty increases as we get closer to the end, with an exception in the days jus before the end. Well, we knew that already, but now it's (sort of) confirmed.\n",
    "- 2015 and 2016 are a bit exceptional, especially at the beginning, but they also peak much higher. Probably just because there were less contenders."
   ]
  },
  {
   "cell_type": "markdown",
   "id": "ac240629",
   "metadata": {},
   "source": [
    "# General conclusions\n",
    "\n",
    "- Quid ChatGPT? Launched 30 November 2022. Need to check impact on 2022.\n",
    "- We know people on the big leaderboard have been around for some time, and puzzles come back. And they know libraries to help with the hard stuff.\n"
   ]
  },
  {
   "cell_type": "code",
   "execution_count": null,
   "id": "11c423c0",
   "metadata": {},
   "outputs": [],
   "source": []
  },
  {
   "cell_type": "markdown",
   "id": "c9f050f2",
   "metadata": {},
   "source": [
    "# Potential way to go"
   ]
  },
  {
   "cell_type": "markdown",
   "id": "b3afa03c",
   "metadata": {},
   "source": [
    "- Make df with info time info: over all puzzles, how much time did it take the n-th ranked person?\n",
    "  - Columns: n-th ranked person for level 1 or 2\n",
    "  - Rows: time for each challenge for every year for this rank\n",
    "- Determine years to consider. Not 2015. 2016?\n",
    "- Check rank of last one to solve within one hour, or 100th one (two ranks, one for level 1 and one for level 2)\n",
    "- For this rank, check in the column in which quartile this would fit\n",
    "- Based on quartile, assign difficulty category, or score"
   ]
  },
  {
   "cell_type": "code",
   "execution_count": 452,
   "id": "2dd93c7a",
   "metadata": {
    "ExecuteTime": {
     "end_time": "2023-11-18T23:05:31.328028Z",
     "start_time": "2023-11-18T23:05:31.207608Z"
    }
   },
   "outputs": [
    {
     "data": {
      "text/html": [
       "<div>\n",
       "<style scoped>\n",
       "    .dataframe tbody tr th:only-of-type {\n",
       "        vertical-align: middle;\n",
       "    }\n",
       "\n",
       "    .dataframe tbody tr th {\n",
       "        vertical-align: top;\n",
       "    }\n",
       "\n",
       "    .dataframe thead th {\n",
       "        text-align: right;\n",
       "    }\n",
       "</style>\n",
       "<table border=\"1\" class=\"dataframe\">\n",
       "  <thead>\n",
       "    <tr style=\"text-align: right;\">\n",
       "      <th></th>\n",
       "      <th>1</th>\n",
       "      <th>2</th>\n",
       "      <th>3</th>\n",
       "      <th>4</th>\n",
       "      <th>5</th>\n",
       "      <th>6</th>\n",
       "      <th>7</th>\n",
       "      <th>8</th>\n",
       "      <th>9</th>\n",
       "      <th>10</th>\n",
       "      <th>...</th>\n",
       "      <th>91</th>\n",
       "      <th>92</th>\n",
       "      <th>93</th>\n",
       "      <th>94</th>\n",
       "      <th>95</th>\n",
       "      <th>96</th>\n",
       "      <th>97</th>\n",
       "      <th>98</th>\n",
       "      <th>99</th>\n",
       "      <th>100</th>\n",
       "    </tr>\n",
       "  </thead>\n",
       "  <tbody>\n",
       "    <tr>\n",
       "      <th>count</th>\n",
       "      <td>125.000000</td>\n",
       "      <td>125.000000</td>\n",
       "      <td>125.000000</td>\n",
       "      <td>125.000000</td>\n",
       "      <td>125.000000</td>\n",
       "      <td>125.000000</td>\n",
       "      <td>125.000000</td>\n",
       "      <td>125.000000</td>\n",
       "      <td>125.000000</td>\n",
       "      <td>125.000000</td>\n",
       "      <td>...</td>\n",
       "      <td>125.000000</td>\n",
       "      <td>125.000000</td>\n",
       "      <td>125.000000</td>\n",
       "      <td>125.000000</td>\n",
       "      <td>125.000000</td>\n",
       "      <td>125.000000</td>\n",
       "      <td>125.000000</td>\n",
       "      <td>125.000000</td>\n",
       "      <td>125.000000</td>\n",
       "      <td>125.000000</td>\n",
       "    </tr>\n",
       "    <tr>\n",
       "      <th>mean</th>\n",
       "      <td>7.902933</td>\n",
       "      <td>9.095200</td>\n",
       "      <td>10.002267</td>\n",
       "      <td>10.560133</td>\n",
       "      <td>11.032533</td>\n",
       "      <td>11.441600</td>\n",
       "      <td>11.789333</td>\n",
       "      <td>12.254400</td>\n",
       "      <td>12.562533</td>\n",
       "      <td>12.829467</td>\n",
       "      <td>...</td>\n",
       "      <td>25.513867</td>\n",
       "      <td>25.638533</td>\n",
       "      <td>25.739467</td>\n",
       "      <td>25.855333</td>\n",
       "      <td>25.943200</td>\n",
       "      <td>26.050800</td>\n",
       "      <td>26.150800</td>\n",
       "      <td>26.248400</td>\n",
       "      <td>26.362667</td>\n",
       "      <td>26.475067</td>\n",
       "    </tr>\n",
       "    <tr>\n",
       "      <th>std</th>\n",
       "      <td>6.569183</td>\n",
       "      <td>7.368808</td>\n",
       "      <td>8.434585</td>\n",
       "      <td>8.934962</td>\n",
       "      <td>9.281389</td>\n",
       "      <td>9.621822</td>\n",
       "      <td>9.877485</td>\n",
       "      <td>10.569599</td>\n",
       "      <td>10.738282</td>\n",
       "      <td>10.923051</td>\n",
       "      <td>...</td>\n",
       "      <td>24.685732</td>\n",
       "      <td>24.871802</td>\n",
       "      <td>24.978787</td>\n",
       "      <td>25.106823</td>\n",
       "      <td>25.192324</td>\n",
       "      <td>25.282043</td>\n",
       "      <td>25.391473</td>\n",
       "      <td>25.484585</td>\n",
       "      <td>25.629629</td>\n",
       "      <td>25.754065</td>\n",
       "    </tr>\n",
       "    <tr>\n",
       "      <th>min</th>\n",
       "      <td>1.116667</td>\n",
       "      <td>1.200000</td>\n",
       "      <td>1.216667</td>\n",
       "      <td>1.233333</td>\n",
       "      <td>1.300000</td>\n",
       "      <td>1.433333</td>\n",
       "      <td>1.483333</td>\n",
       "      <td>1.500000</td>\n",
       "      <td>1.533333</td>\n",
       "      <td>1.550000</td>\n",
       "      <td>...</td>\n",
       "      <td>2.650000</td>\n",
       "      <td>2.650000</td>\n",
       "      <td>2.666667</td>\n",
       "      <td>2.666667</td>\n",
       "      <td>2.666667</td>\n",
       "      <td>2.683333</td>\n",
       "      <td>2.683333</td>\n",
       "      <td>2.700000</td>\n",
       "      <td>2.716667</td>\n",
       "      <td>2.733333</td>\n",
       "    </tr>\n",
       "    <tr>\n",
       "      <th>25%</th>\n",
       "      <td>3.633333</td>\n",
       "      <td>4.133333</td>\n",
       "      <td>4.550000</td>\n",
       "      <td>4.716667</td>\n",
       "      <td>4.966667</td>\n",
       "      <td>5.116667</td>\n",
       "      <td>5.183333</td>\n",
       "      <td>5.300000</td>\n",
       "      <td>5.366667</td>\n",
       "      <td>5.650000</td>\n",
       "      <td>...</td>\n",
       "      <td>9.850000</td>\n",
       "      <td>9.850000</td>\n",
       "      <td>9.883333</td>\n",
       "      <td>9.900000</td>\n",
       "      <td>9.933333</td>\n",
       "      <td>10.166667</td>\n",
       "      <td>10.166667</td>\n",
       "      <td>10.216667</td>\n",
       "      <td>10.266667</td>\n",
       "      <td>10.283333</td>\n",
       "    </tr>\n",
       "    <tr>\n",
       "      <th>50%</th>\n",
       "      <td>5.666667</td>\n",
       "      <td>6.666667</td>\n",
       "      <td>7.116667</td>\n",
       "      <td>7.383333</td>\n",
       "      <td>7.683333</td>\n",
       "      <td>8.083333</td>\n",
       "      <td>8.200000</td>\n",
       "      <td>8.733333</td>\n",
       "      <td>8.916667</td>\n",
       "      <td>9.166667</td>\n",
       "      <td>...</td>\n",
       "      <td>15.883333</td>\n",
       "      <td>15.933333</td>\n",
       "      <td>15.983333</td>\n",
       "      <td>16.016667</td>\n",
       "      <td>16.033333</td>\n",
       "      <td>16.100000</td>\n",
       "      <td>16.100000</td>\n",
       "      <td>16.150000</td>\n",
       "      <td>16.233333</td>\n",
       "      <td>16.233333</td>\n",
       "    </tr>\n",
       "    <tr>\n",
       "      <th>75%</th>\n",
       "      <td>9.733333</td>\n",
       "      <td>13.183333</td>\n",
       "      <td>14.016667</td>\n",
       "      <td>14.883333</td>\n",
       "      <td>15.083333</td>\n",
       "      <td>15.550000</td>\n",
       "      <td>15.850000</td>\n",
       "      <td>16.283333</td>\n",
       "      <td>16.466667</td>\n",
       "      <td>16.500000</td>\n",
       "      <td>...</td>\n",
       "      <td>33.033333</td>\n",
       "      <td>33.050000</td>\n",
       "      <td>33.083333</td>\n",
       "      <td>33.183333</td>\n",
       "      <td>33.216667</td>\n",
       "      <td>33.300000</td>\n",
       "      <td>33.383333</td>\n",
       "      <td>33.416667</td>\n",
       "      <td>33.483333</td>\n",
       "      <td>33.500000</td>\n",
       "    </tr>\n",
       "    <tr>\n",
       "      <th>max</th>\n",
       "      <td>36.066667</td>\n",
       "      <td>36.916667</td>\n",
       "      <td>46.033333</td>\n",
       "      <td>47.650000</td>\n",
       "      <td>47.766667</td>\n",
       "      <td>50.866667</td>\n",
       "      <td>51.183333</td>\n",
       "      <td>56.716667</td>\n",
       "      <td>56.966667</td>\n",
       "      <td>57.000000</td>\n",
       "      <td>...</td>\n",
       "      <td>139.816667</td>\n",
       "      <td>140.133333</td>\n",
       "      <td>140.616667</td>\n",
       "      <td>140.966667</td>\n",
       "      <td>141.333333</td>\n",
       "      <td>141.400000</td>\n",
       "      <td>142.433333</td>\n",
       "      <td>142.716667</td>\n",
       "      <td>143.200000</td>\n",
       "      <td>143.283333</td>\n",
       "    </tr>\n",
       "  </tbody>\n",
       "</table>\n",
       "<p>8 rows × 100 columns</p>\n",
       "</div>"
      ],
      "text/plain": [
       "              1           2           3           4           5           6    \\\n",
       "count  125.000000  125.000000  125.000000  125.000000  125.000000  125.000000   \n",
       "mean     7.902933    9.095200   10.002267   10.560133   11.032533   11.441600   \n",
       "std      6.569183    7.368808    8.434585    8.934962    9.281389    9.621822   \n",
       "min      1.116667    1.200000    1.216667    1.233333    1.300000    1.433333   \n",
       "25%      3.633333    4.133333    4.550000    4.716667    4.966667    5.116667   \n",
       "50%      5.666667    6.666667    7.116667    7.383333    7.683333    8.083333   \n",
       "75%      9.733333   13.183333   14.016667   14.883333   15.083333   15.550000   \n",
       "max     36.066667   36.916667   46.033333   47.650000   47.766667   50.866667   \n",
       "\n",
       "              7           8           9           10   ...         91   \\\n",
       "count  125.000000  125.000000  125.000000  125.000000  ...  125.000000   \n",
       "mean    11.789333   12.254400   12.562533   12.829467  ...   25.513867   \n",
       "std      9.877485   10.569599   10.738282   10.923051  ...   24.685732   \n",
       "min      1.483333    1.500000    1.533333    1.550000  ...    2.650000   \n",
       "25%      5.183333    5.300000    5.366667    5.650000  ...    9.850000   \n",
       "50%      8.200000    8.733333    8.916667    9.166667  ...   15.883333   \n",
       "75%     15.850000   16.283333   16.466667   16.500000  ...   33.033333   \n",
       "max     51.183333   56.716667   56.966667   57.000000  ...  139.816667   \n",
       "\n",
       "              92          93          94          95          96          97   \\\n",
       "count  125.000000  125.000000  125.000000  125.000000  125.000000  125.000000   \n",
       "mean    25.638533   25.739467   25.855333   25.943200   26.050800   26.150800   \n",
       "std     24.871802   24.978787   25.106823   25.192324   25.282043   25.391473   \n",
       "min      2.650000    2.666667    2.666667    2.666667    2.683333    2.683333   \n",
       "25%      9.850000    9.883333    9.900000    9.933333   10.166667   10.166667   \n",
       "50%     15.933333   15.983333   16.016667   16.033333   16.100000   16.100000   \n",
       "75%     33.050000   33.083333   33.183333   33.216667   33.300000   33.383333   \n",
       "max    140.133333  140.616667  140.966667  141.333333  141.400000  142.433333   \n",
       "\n",
       "              98          99          100  \n",
       "count  125.000000  125.000000  125.000000  \n",
       "mean    26.248400   26.362667   26.475067  \n",
       "std     25.484585   25.629629   25.754065  \n",
       "min      2.700000    2.716667    2.733333  \n",
       "25%     10.216667   10.266667   10.283333  \n",
       "50%     16.150000   16.233333   16.233333  \n",
       "75%     33.416667   33.483333   33.500000  \n",
       "max    142.716667  143.200000  143.283333  \n",
       "\n",
       "[8 rows x 100 columns]"
      ]
     },
     "execution_count": 452,
     "metadata": {},
     "output_type": "execute_result"
    }
   ],
   "source": [
    "# Df with time info\n",
    "level = 2\n",
    "time_df = pd.DataFrame()\n",
    "for n in range(0,100):\n",
    "    time_df[n+1] = [history[str(year)][str(d)][str(level)][n] / 60 for d in range(1,26) for year in range(2017, 2022)]\n",
    "\n",
    "time_df.describe()"
   ]
  },
  {
   "cell_type": "code",
   "execution_count": 489,
   "id": "e3c58a50",
   "metadata": {
    "ExecuteTime": {
     "end_time": "2023-11-18T23:16:45.609328Z",
     "start_time": "2023-11-18T23:16:45.480710Z"
    }
   },
   "outputs": [
    {
     "data": {
      "text/html": [
       "<div>\n",
       "<style scoped>\n",
       "    .dataframe tbody tr th:only-of-type {\n",
       "        vertical-align: middle;\n",
       "    }\n",
       "\n",
       "    .dataframe tbody tr th {\n",
       "        vertical-align: top;\n",
       "    }\n",
       "\n",
       "    .dataframe thead th {\n",
       "        text-align: right;\n",
       "    }\n",
       "</style>\n",
       "<table border=\"1\" class=\"dataframe\">\n",
       "  <thead>\n",
       "    <tr style=\"text-align: right;\">\n",
       "      <th></th>\n",
       "      <th>1</th>\n",
       "      <th>2</th>\n",
       "      <th>3</th>\n",
       "      <th>4</th>\n",
       "      <th>5</th>\n",
       "      <th>6</th>\n",
       "      <th>7</th>\n",
       "      <th>8</th>\n",
       "      <th>9</th>\n",
       "      <th>10</th>\n",
       "      <th>...</th>\n",
       "      <th>91</th>\n",
       "      <th>92</th>\n",
       "      <th>93</th>\n",
       "      <th>94</th>\n",
       "      <th>95</th>\n",
       "      <th>96</th>\n",
       "      <th>97</th>\n",
       "      <th>98</th>\n",
       "      <th>99</th>\n",
       "      <th>100</th>\n",
       "    </tr>\n",
       "  </thead>\n",
       "  <tbody>\n",
       "    <tr>\n",
       "      <th>count</th>\n",
       "      <td>125.000000</td>\n",
       "      <td>125.000000</td>\n",
       "      <td>125.000000</td>\n",
       "      <td>125.000000</td>\n",
       "      <td>125.000000</td>\n",
       "      <td>125.000000</td>\n",
       "      <td>125.000000</td>\n",
       "      <td>125.000000</td>\n",
       "      <td>125.000000</td>\n",
       "      <td>125.000000</td>\n",
       "      <td>...</td>\n",
       "      <td>125.000000</td>\n",
       "      <td>125.000000</td>\n",
       "      <td>125.000000</td>\n",
       "      <td>125.000000</td>\n",
       "      <td>125.000000</td>\n",
       "      <td>125.000000</td>\n",
       "      <td>125.000000</td>\n",
       "      <td>125.000000</td>\n",
       "      <td>125.000000</td>\n",
       "      <td>125.000000</td>\n",
       "    </tr>\n",
       "    <tr>\n",
       "      <th>mean</th>\n",
       "      <td>1.772833</td>\n",
       "      <td>1.914599</td>\n",
       "      <td>1.997453</td>\n",
       "      <td>2.050433</td>\n",
       "      <td>2.095901</td>\n",
       "      <td>2.132337</td>\n",
       "      <td>2.162447</td>\n",
       "      <td>2.192438</td>\n",
       "      <td>2.219864</td>\n",
       "      <td>2.241697</td>\n",
       "      <td>...</td>\n",
       "      <td>2.870356</td>\n",
       "      <td>2.873855</td>\n",
       "      <td>2.877418</td>\n",
       "      <td>2.881387</td>\n",
       "      <td>2.884489</td>\n",
       "      <td>2.888509</td>\n",
       "      <td>2.892233</td>\n",
       "      <td>2.895802</td>\n",
       "      <td>2.899659</td>\n",
       "      <td>2.903437</td>\n",
       "    </tr>\n",
       "    <tr>\n",
       "      <th>std</th>\n",
       "      <td>0.776855</td>\n",
       "      <td>0.777270</td>\n",
       "      <td>0.790615</td>\n",
       "      <td>0.792403</td>\n",
       "      <td>0.790083</td>\n",
       "      <td>0.790119</td>\n",
       "      <td>0.791001</td>\n",
       "      <td>0.797705</td>\n",
       "      <td>0.795611</td>\n",
       "      <td>0.795447</td>\n",
       "      <td>...</td>\n",
       "      <td>0.856734</td>\n",
       "      <td>0.858176</td>\n",
       "      <td>0.858562</td>\n",
       "      <td>0.859162</td>\n",
       "      <td>0.859592</td>\n",
       "      <td>0.859866</td>\n",
       "      <td>0.859973</td>\n",
       "      <td>0.860193</td>\n",
       "      <td>0.860641</td>\n",
       "      <td>0.861050</td>\n",
       "    </tr>\n",
       "    <tr>\n",
       "      <th>min</th>\n",
       "      <td>0.110348</td>\n",
       "      <td>0.182322</td>\n",
       "      <td>0.196115</td>\n",
       "      <td>0.209721</td>\n",
       "      <td>0.262364</td>\n",
       "      <td>0.360003</td>\n",
       "      <td>0.394292</td>\n",
       "      <td>0.405465</td>\n",
       "      <td>0.427444</td>\n",
       "      <td>0.438255</td>\n",
       "      <td>...</td>\n",
       "      <td>0.974560</td>\n",
       "      <td>0.974560</td>\n",
       "      <td>0.980829</td>\n",
       "      <td>0.980829</td>\n",
       "      <td>0.980829</td>\n",
       "      <td>0.987060</td>\n",
       "      <td>0.987060</td>\n",
       "      <td>0.993252</td>\n",
       "      <td>0.999406</td>\n",
       "      <td>1.005522</td>\n",
       "    </tr>\n",
       "    <tr>\n",
       "      <th>25%</th>\n",
       "      <td>1.290151</td>\n",
       "      <td>1.419084</td>\n",
       "      <td>1.515127</td>\n",
       "      <td>1.551102</td>\n",
       "      <td>1.602749</td>\n",
       "      <td>1.632503</td>\n",
       "      <td>1.645448</td>\n",
       "      <td>1.667707</td>\n",
       "      <td>1.680207</td>\n",
       "      <td>1.731656</td>\n",
       "      <td>...</td>\n",
       "      <td>2.287471</td>\n",
       "      <td>2.287471</td>\n",
       "      <td>2.290850</td>\n",
       "      <td>2.292535</td>\n",
       "      <td>2.295896</td>\n",
       "      <td>2.319114</td>\n",
       "      <td>2.319114</td>\n",
       "      <td>2.324020</td>\n",
       "      <td>2.328902</td>\n",
       "      <td>2.330524</td>\n",
       "    </tr>\n",
       "    <tr>\n",
       "      <th>50%</th>\n",
       "      <td>1.734601</td>\n",
       "      <td>1.897120</td>\n",
       "      <td>1.962439</td>\n",
       "      <td>1.999225</td>\n",
       "      <td>2.039053</td>\n",
       "      <td>2.089804</td>\n",
       "      <td>2.104134</td>\n",
       "      <td>2.167147</td>\n",
       "      <td>2.187922</td>\n",
       "      <td>2.215574</td>\n",
       "      <td>...</td>\n",
       "      <td>2.765270</td>\n",
       "      <td>2.768413</td>\n",
       "      <td>2.771547</td>\n",
       "      <td>2.773630</td>\n",
       "      <td>2.774670</td>\n",
       "      <td>2.778819</td>\n",
       "      <td>2.778819</td>\n",
       "      <td>2.781920</td>\n",
       "      <td>2.787067</td>\n",
       "      <td>2.787067</td>\n",
       "    </tr>\n",
       "    <tr>\n",
       "      <th>75%</th>\n",
       "      <td>2.275556</td>\n",
       "      <td>2.578953</td>\n",
       "      <td>2.640247</td>\n",
       "      <td>2.700242</td>\n",
       "      <td>2.713590</td>\n",
       "      <td>2.744061</td>\n",
       "      <td>2.763170</td>\n",
       "      <td>2.790142</td>\n",
       "      <td>2.801338</td>\n",
       "      <td>2.803360</td>\n",
       "      <td>...</td>\n",
       "      <td>3.497517</td>\n",
       "      <td>3.498022</td>\n",
       "      <td>3.499030</td>\n",
       "      <td>3.502048</td>\n",
       "      <td>3.503052</td>\n",
       "      <td>3.505557</td>\n",
       "      <td>3.508057</td>\n",
       "      <td>3.509055</td>\n",
       "      <td>3.511048</td>\n",
       "      <td>3.511545</td>\n",
       "    </tr>\n",
       "    <tr>\n",
       "      <th>max</th>\n",
       "      <td>3.585369</td>\n",
       "      <td>3.608663</td>\n",
       "      <td>3.829366</td>\n",
       "      <td>3.863883</td>\n",
       "      <td>3.866328</td>\n",
       "      <td>3.929208</td>\n",
       "      <td>3.935414</td>\n",
       "      <td>4.038068</td>\n",
       "      <td>4.042466</td>\n",
       "      <td>4.043051</td>\n",
       "      <td>...</td>\n",
       "      <td>4.940332</td>\n",
       "      <td>4.942594</td>\n",
       "      <td>4.946038</td>\n",
       "      <td>4.948523</td>\n",
       "      <td>4.951121</td>\n",
       "      <td>4.951593</td>\n",
       "      <td>4.958874</td>\n",
       "      <td>4.960861</td>\n",
       "      <td>4.964242</td>\n",
       "      <td>4.964824</td>\n",
       "    </tr>\n",
       "  </tbody>\n",
       "</table>\n",
       "<p>8 rows × 100 columns</p>\n",
       "</div>"
      ],
      "text/plain": [
       "              1           2           3           4           5           6    \\\n",
       "count  125.000000  125.000000  125.000000  125.000000  125.000000  125.000000   \n",
       "mean     1.772833    1.914599    1.997453    2.050433    2.095901    2.132337   \n",
       "std      0.776855    0.777270    0.790615    0.792403    0.790083    0.790119   \n",
       "min      0.110348    0.182322    0.196115    0.209721    0.262364    0.360003   \n",
       "25%      1.290151    1.419084    1.515127    1.551102    1.602749    1.632503   \n",
       "50%      1.734601    1.897120    1.962439    1.999225    2.039053    2.089804   \n",
       "75%      2.275556    2.578953    2.640247    2.700242    2.713590    2.744061   \n",
       "max      3.585369    3.608663    3.829366    3.863883    3.866328    3.929208   \n",
       "\n",
       "              7           8           9           10   ...         91   \\\n",
       "count  125.000000  125.000000  125.000000  125.000000  ...  125.000000   \n",
       "mean     2.162447    2.192438    2.219864    2.241697  ...    2.870356   \n",
       "std      0.791001    0.797705    0.795611    0.795447  ...    0.856734   \n",
       "min      0.394292    0.405465    0.427444    0.438255  ...    0.974560   \n",
       "25%      1.645448    1.667707    1.680207    1.731656  ...    2.287471   \n",
       "50%      2.104134    2.167147    2.187922    2.215574  ...    2.765270   \n",
       "75%      2.763170    2.790142    2.801338    2.803360  ...    3.497517   \n",
       "max      3.935414    4.038068    4.042466    4.043051  ...    4.940332   \n",
       "\n",
       "              92          93          94          95          96          97   \\\n",
       "count  125.000000  125.000000  125.000000  125.000000  125.000000  125.000000   \n",
       "mean     2.873855    2.877418    2.881387    2.884489    2.888509    2.892233   \n",
       "std      0.858176    0.858562    0.859162    0.859592    0.859866    0.859973   \n",
       "min      0.974560    0.980829    0.980829    0.980829    0.987060    0.987060   \n",
       "25%      2.287471    2.290850    2.292535    2.295896    2.319114    2.319114   \n",
       "50%      2.768413    2.771547    2.773630    2.774670    2.778819    2.778819   \n",
       "75%      3.498022    3.499030    3.502048    3.503052    3.505557    3.508057   \n",
       "max      4.942594    4.946038    4.948523    4.951121    4.951593    4.958874   \n",
       "\n",
       "              98          99          100  \n",
       "count  125.000000  125.000000  125.000000  \n",
       "mean     2.895802    2.899659    2.903437  \n",
       "std      0.860193    0.860641    0.861050  \n",
       "min      0.993252    0.999406    1.005522  \n",
       "25%      2.324020    2.328902    2.330524  \n",
       "50%      2.781920    2.787067    2.787067  \n",
       "75%      3.509055    3.511048    3.511545  \n",
       "max      4.960861    4.964242    4.964824  \n",
       "\n",
       "[8 rows x 100 columns]"
      ]
     },
     "execution_count": 489,
     "metadata": {},
     "output_type": "execute_result"
    }
   ],
   "source": [
    "np.log(time_df).describe()"
   ]
  },
  {
   "cell_type": "code",
   "execution_count": 497,
   "id": "0afe84e5",
   "metadata": {
    "ExecuteTime": {
     "end_time": "2023-11-18T23:23:16.877376Z",
     "start_time": "2023-11-18T23:23:16.852048Z"
    }
   },
   "outputs": [],
   "source": [
    "def difficulty_quartile(time, pos, historical):\n",
    "    \"\"\"Calculates the difficulty quartile\n",
    "    Compares the time it took the n-th contender\n",
    "    to historical data.\n",
    "    \n",
    "    Parameters\n",
    "    ----------\n",
    "    time : float\n",
    "        Time it took the n-th contender\n",
    "    n : int\n",
    "        Position of the contender to evaluate\n",
    "    Returns\n",
    "    -------\n",
    "    int (0 to 5)\n",
    "        Quartile: from 0 (faster than ever) to 5 (slower than ever)\n",
    "\"\"\"\n",
    "    if time > historical[n].quantile(1.00):\n",
    "        difficulty = 5\n",
    "    if time < historical[n].quantile(1.00):\n",
    "        difficulty = 4\n",
    "    if time < historical[n].quantile(0.75):\n",
    "        difficulty = 3\n",
    "    if time < historical[n].quantile(0.5):\n",
    "        difficulty = 2\n",
    "    if time < historical[n].quantile(0.25):\n",
    "        difficulty = 1\n",
    "    if time < historical[n].quantile(0.00):\n",
    "        difficulty = 0\n",
    "    return difficulty"
   ]
  },
  {
   "cell_type": "code",
   "execution_count": 498,
   "id": "16416d3a",
   "metadata": {
    "ExecuteTime": {
     "end_time": "2023-11-18T23:23:17.427075Z",
     "start_time": "2023-11-18T23:23:17.405126Z"
    }
   },
   "outputs": [
    {
     "data": {
      "text/plain": [
       "4"
      ]
     },
     "execution_count": 498,
     "metadata": {},
     "output_type": "execute_result"
    }
   ],
   "source": [
    "difficulty_quartile(143, 100, time_df)"
   ]
  },
  {
   "cell_type": "code",
   "execution_count": 495,
   "id": "5bb116fb",
   "metadata": {
    "ExecuteTime": {
     "end_time": "2023-11-18T23:23:08.799811Z",
     "start_time": "2023-11-18T23:23:08.790568Z"
    }
   },
   "outputs": [],
   "source": [
    "def difficulty_score(time, n, historical):\n",
    "    \"\"\"Calculates a difficulty score\n",
    "    Compares the log of the time it took the n-th contender\n",
    "    to historical data.\n",
    "    \n",
    "    Parameters\n",
    "    ----------\n",
    "    time : float\n",
    "        Time it took the n-th contender\n",
    "    n : int\n",
    "        Position of the contender to evaluate\n",
    "    historical : pd.DataFrame\n",
    "        Historical date for the first 100 contenders\n",
    "    \n",
    "    Returns\n",
    "    -------\n",
    "    float\n",
    "        Score: log compared to historical data\n",
    "        Goes from 0 (faster than ever) to 1 (slower than ever)\n",
    "    \"\"\"\n",
    "    log_min = np.log(time_df[n].min())\n",
    "    log_spread = np.log(time_df[n].max()) - log_min\n",
    "    score = (np.log(time) - log_min) / log_spread\n",
    "    return min(max(0, score), 1)"
   ]
  },
  {
   "cell_type": "code",
   "execution_count": 496,
   "id": "8c3ea0f5",
   "metadata": {
    "ExecuteTime": {
     "end_time": "2023-11-18T23:23:09.409216Z",
     "start_time": "2023-11-18T23:23:09.385832Z"
    }
   },
   "outputs": [
    {
     "data": {
      "text/plain": [
       "0.023511825920309277"
      ]
     },
     "execution_count": 496,
     "metadata": {},
     "output_type": "execute_result"
    }
   ],
   "source": [
    "difficulty_score(time=3, n=100, historical=time_df)"
   ]
  },
  {
   "cell_type": "markdown",
   "id": "b946bd36",
   "metadata": {},
   "source": [
    "# Scraping the AOC website"
   ]
  },
  {
   "cell_type": "code",
   "execution_count": 387,
   "id": "308275d2",
   "metadata": {
    "ExecuteTime": {
     "end_time": "2023-11-18T22:38:19.294006Z",
     "start_time": "2023-11-18T22:38:19.282765Z"
    }
   },
   "outputs": [],
   "source": [
    "# today_data = requests.get(url=\"https://adventofcode.com/2022/leaderboard/day/22\").text\n",
    "with open(\"test.html\") as file:\n",
    "    today_data = file.read()"
   ]
  },
  {
   "cell_type": "code",
   "execution_count": 388,
   "id": "4409e585",
   "metadata": {
    "ExecuteTime": {
     "end_time": "2023-11-18T22:38:21.288103Z",
     "start_time": "2023-11-18T22:38:21.232734Z"
    }
   },
   "outputs": [],
   "source": [
    "soup = BeautifulSoup(today_data)"
   ]
  },
  {
   "cell_type": "code",
   "execution_count": 389,
   "id": "ac871f0e",
   "metadata": {
    "ExecuteTime": {
     "end_time": "2023-11-18T22:38:21.488768Z",
     "start_time": "2023-11-18T22:38:21.462354Z"
    }
   },
   "outputs": [],
   "source": [
    "times_text = [entry.contents[0][-8:] for entry in soup.find_all(class_=\"leaderboard-time\")]\n",
    "times = [int(time[:2])*60 + int(time[3:5]) + int(time[6:])/60 for time in times_text]\n",
    "positions = [int(entry.contents[0][:-1].strip()) for entry in soup.find_all(class_=\"leaderboard-position\")]"
   ]
  },
  {
   "cell_type": "code",
   "execution_count": 390,
   "id": "bd7eab30",
   "metadata": {
    "ExecuteTime": {
     "end_time": "2023-11-18T22:38:21.655801Z",
     "start_time": "2023-11-18T22:38:21.643706Z"
    }
   },
   "outputs": [
    {
     "name": "stdout",
     "output_type": "stream",
     "text": [
      "[25.933333333333334, 39.18333333333333, 39.45, 39.733333333333334, 40.916666666666664, 41.233333333333334, 41.333333333333336, 41.63333333333333, 41.93333333333333, 42.11666666666667, 42.9, 44.31666666666667, 47.5, 48.06666666666667, 48.166666666666664, 48.916666666666664, 49.166666666666664, 50.63333333333333, 51.38333333333333, 51.45, 51.56666666666667, 51.766666666666666, 52.45, 53.483333333333334, 54.733333333333334, 54.916666666666664, 55.333333333333336, 55.583333333333336, 55.85, 56.53333333333333, 56.78333333333333, 58.15, 58.416666666666664, 58.983333333333334, 59.43333333333333]\n"
     ]
    },
    {
     "data": {
      "text/plain": [
       "[7.766666666666667,\n",
       " 8.166666666666666,\n",
       " 9.883333333333333,\n",
       " 9.966666666666667,\n",
       " 10.05,\n",
       " 10.25,\n",
       " 10.533333333333333,\n",
       " 10.55,\n",
       " 10.6,\n",
       " 10.833333333333334,\n",
       " 11.083333333333334,\n",
       " 11.133333333333333,\n",
       " 11.166666666666666,\n",
       " 11.45,\n",
       " 11.916666666666666,\n",
       " 12.183333333333334,\n",
       " 12.566666666666666,\n",
       " 12.783333333333333,\n",
       " 12.85,\n",
       " 12.916666666666666,\n",
       " 13.133333333333333,\n",
       " 13.183333333333334,\n",
       " 13.366666666666667,\n",
       " 13.4,\n",
       " 13.616666666666667,\n",
       " 13.65,\n",
       " 13.783333333333333,\n",
       " 14.016666666666667,\n",
       " 14.066666666666666,\n",
       " 14.15,\n",
       " 14.2,\n",
       " 14.4,\n",
       " 14.45,\n",
       " 14.483333333333333,\n",
       " 14.516666666666667,\n",
       " 14.55,\n",
       " 14.633333333333333,\n",
       " 14.65,\n",
       " 14.666666666666666,\n",
       " 14.733333333333333,\n",
       " 14.766666666666667,\n",
       " 14.866666666666667,\n",
       " 14.95,\n",
       " 14.983333333333333,\n",
       " 15.133333333333333,\n",
       " 15.583333333333334,\n",
       " 15.666666666666666,\n",
       " 15.7,\n",
       " 15.95,\n",
       " 16.033333333333335,\n",
       " 16.116666666666667,\n",
       " 16.133333333333333,\n",
       " 16.383333333333333,\n",
       " 16.433333333333334,\n",
       " 16.45,\n",
       " 16.516666666666666,\n",
       " 16.566666666666666,\n",
       " 16.6,\n",
       " 16.666666666666668,\n",
       " 16.683333333333334,\n",
       " 16.75,\n",
       " 16.8,\n",
       " 16.8,\n",
       " 16.95,\n",
       " 17.033333333333335,\n",
       " 17.166666666666668,\n",
       " 17.183333333333334,\n",
       " 17.2,\n",
       " 17.233333333333334,\n",
       " 17.283333333333335,\n",
       " 17.433333333333334,\n",
       " 17.5,\n",
       " 17.533333333333335,\n",
       " 17.616666666666667,\n",
       " 17.633333333333333,\n",
       " 17.683333333333334,\n",
       " 17.733333333333334,\n",
       " 17.766666666666666,\n",
       " 17.916666666666668,\n",
       " 17.933333333333334,\n",
       " 18.05,\n",
       " 18.166666666666668,\n",
       " 18.183333333333334,\n",
       " 18.2,\n",
       " 18.216666666666665,\n",
       " 18.233333333333334,\n",
       " 18.3,\n",
       " 18.316666666666666,\n",
       " 18.35,\n",
       " 18.366666666666667,\n",
       " 18.383333333333333,\n",
       " 18.516666666666666,\n",
       " 18.6,\n",
       " 18.683333333333334]"
      ]
     },
     "execution_count": 390,
     "metadata": {},
     "output_type": "execute_result"
    }
   ],
   "source": [
    "level_one_results = []\n",
    "level_two_results = []\n",
    "for i in range(0, min(100, len(positions)+1)):\n",
    "    level_two_results.append(times[i])\n",
    "    if positions[i+1] < positions[i]:\n",
    "        break\n",
    "print(level_two_results)\n",
    "start_of_level_one = len(level_two_results)\n",
    "for i in range(start_of_level_one, len(times)):\n",
    "#     print(i)\n",
    "    level_one_results.append(times[i])\n",
    "level_one_results"
   ]
  },
  {
   "cell_type": "code",
   "execution_count": 391,
   "id": "0df3ca8e",
   "metadata": {
    "ExecuteTime": {
     "end_time": "2023-11-18T22:38:22.453453Z",
     "start_time": "2023-11-18T22:38:22.448690Z"
    }
   },
   "outputs": [
    {
     "data": {
      "text/plain": [
       "(94, 35)"
      ]
     },
     "execution_count": 391,
     "metadata": {},
     "output_type": "execute_result"
    }
   ],
   "source": [
    "count_level_one_in_one_hour = len(level_one_results)\n",
    "count_level_two_in_one_hour = len(level_two_results)\n",
    "count_level_one_in_one_hour, count_level_two_in_one_hour"
   ]
  }
 ],
 "metadata": {
  "kernelspec": {
   "display_name": "Python 3 (ipykernel)",
   "language": "python",
   "name": "python3"
  },
  "language_info": {
   "codemirror_mode": {
    "name": "ipython",
    "version": 3
   },
   "file_extension": ".py",
   "mimetype": "text/x-python",
   "name": "python",
   "nbconvert_exporter": "python",
   "pygments_lexer": "ipython3",
   "version": "3.10.6"
  },
  "toc": {
   "base_numbering": 1,
   "nav_menu": {},
   "number_sections": false,
   "sideBar": true,
   "skip_h1_title": false,
   "title_cell": "Table of Contents",
   "title_sidebar": "Contents",
   "toc_cell": false,
   "toc_position": {},
   "toc_section_display": true,
   "toc_window_display": false
  }
 },
 "nbformat": 4,
 "nbformat_minor": 5
}
